{
 "cells": [
  {
   "cell_type": "markdown",
   "metadata": {},
   "source": [
    "# Pendahuluan\n",
    "Tabel yang dibutuhkan:\n",
    "1. Tabel PDRB"
   ]
  },
  {
   "cell_type": "markdown",
   "metadata": {},
   "source": [
    "Jika belum ada pakcage di bawah, coba instal lagi dengan code sbb:\n",
    "\n",
    "install.packages(c(\"ggplot2\", \"forecast\", \"openxlsx\", \"tibble\", \"BiocManager\", \"devtools\"))\n",
    "\n",
    "library(BiocManager)\n",
    "\n",
    "BiocManager::install(\"mixOmics\")\n",
    "\n",
    "library(\"devtools\")\n",
    "\n",
    "devtools::install_github(\"dulmaj12id/ForecastPDRB64\")"
   ]
  },
  {
   "cell_type": "markdown",
   "metadata": {},
   "source": [
    "# Library Loading"
   ]
  },
  {
   "cell_type": "code",
   "execution_count": 1,
   "metadata": {
    "vscode": {
     "languageId": "r"
    }
   },
   "outputs": [
    {
     "name": "stdout",
     "output_type": "stream",
     "text": [
      "Seluruh package telah diinstall.\n"
     ]
    },
    {
     "name": "stderr",
     "output_type": "stream",
     "text": [
      "Warning message:\n",
      "\"package 'openxlsx' was built under R version 4.4.2\"\n",
      "Registered S3 method overwritten by 'quantmod':\n",
      "  method            from\n",
      "  as.zoo.data.frame zoo \n",
      "\n",
      "Loading required package: MASS\n",
      "\n",
      "Loading required package: lattice\n",
      "\n",
      "Loading required package: ggplot2\n",
      "\n",
      "Warning message:\n",
      "\"package 'ggplot2' was built under R version 4.4.2\"\n",
      "\n",
      "Loaded mixOmics 6.28.0\n",
      "Thank you for using mixOmics!\n",
      "Tutorials: http://mixomics.org\n",
      "Bookdown vignette: https://mixomicsteam.github.io/Bookdown\n",
      "Questions, issues: Follow the prompts at http://mixomics.org/contact-us\n",
      "Cite us:  citation('mixOmics')\n",
      "\n",
      "\n"
     ]
    },
    {
     "name": "stdout",
     "output_type": "stream",
     "text": [
      "Seluruh package telah di-Load.\n"
     ]
    }
   ],
   "source": [
    "library(ForecastPDRB64)\n",
    "ForecastPDRB64::cek.package.nya()"
   ]
  },
  {
   "cell_type": "markdown",
   "metadata": {},
   "source": [
    "# Data Frame Loading"
   ]
  },
  {
   "cell_type": "code",
   "execution_count": 2,
   "metadata": {
    "vscode": {
     "languageId": "r"
    }
   },
   "outputs": [],
   "source": [
    "# Load Tabel PDRB\n",
    "pdrb_df <- read.xlsx(file.choose())\n",
    "\n",
    "# Menghapus kolom yang tidak diperlukan\n",
    "data.pdrb <- pdrb_df[, 3:ncol(pdrb_df)]\n"
   ]
  },
  {
   "cell_type": "markdown",
   "metadata": {},
   "source": [
    "# AUTO ARIMA PDRB"
   ]
  },
  {
   "cell_type": "markdown",
   "metadata": {},
   "source": [
    "## Forecasting Function"
   ]
  },
  {
   "cell_type": "markdown",
   "metadata": {},
   "source": [
    "Proses ini akan mencakup beberapa hal sebagai berikut:\n",
    "1. Menjalankan forecasting dengan ARIMA\n",
    "2. Melakukan penyimpanan model ARIMA untuk masing-masing kategori dalam file berekstensi *.txt\n",
    "3. Melakukan penyimpanan plot untuk masing-masing kategori dalam file berekstensi *.png"
   ]
  },
  {
   "cell_type": "code",
   "execution_count": 3,
   "metadata": {
    "vscode": {
     "languageId": "r"
    }
   },
   "outputs": [
    {
     "name": "stdout",
     "output_type": "stream",
     "text": [
      "=============================================\n",
      "Model ARIMA berhasil disimpan di G:\\My Drive\\[02] Area\\Work\\BPS Kaltim\\Teknis\\2024\\Neraca\\Neraca - Peramalan PDRB Triwulanan 2024\\Tw IV\\2. ARIMA Plot dan Model/ModelARIMA.txt \n",
      "=============================================\n"
     ]
    }
   ],
   "source": [
    "# Menentukan folder model dan plot\n",
    "mypath <- file.path(choose.dir(caption = \"Pilih Lokasi Simpan Model ARIMA\"), \"ModelARIMA.txt\")\n",
    "\n",
    "# Menampilkan hasil dan menyimpan model\n",
    "sink(mypath)\n",
    "suppressWarnings(arima <- pdrb.forecast.arima(data.pdrb))\n",
    "sink()\n",
    "\n",
    "cat(\"=============================================\\n\")\n",
    "cat(\"Model ARIMA berhasil disimpan di\", mypath, \"\\n\")\n",
    "cat(\"=============================================\\n\")"
   ]
  },
  {
   "cell_type": "markdown",
   "metadata": {},
   "source": [
    "# EXPONENTIAL SMOOTHING PDRB"
   ]
  },
  {
   "cell_type": "markdown",
   "metadata": {},
   "source": [
    "## Forecasting Function"
   ]
  },
  {
   "cell_type": "markdown",
   "metadata": {},
   "source": [
    "Proses ini akan mencakup beberapa hal sebagai berikut:\n",
    "1. Menjalankan forecasting dengan Exponential Smoothing\n",
    "2. Melakukan penyimpanan model ARIMA untuk masing-masing kategori dalam file berekstensi *.txt\n",
    "3. Melakukan penyimpanan plot untuk masing-masing kategori dalam file berekstensi *.png"
   ]
  },
  {
   "cell_type": "code",
   "execution_count": 4,
   "metadata": {
    "vscode": {
     "languageId": "r"
    }
   },
   "outputs": [
    {
     "name": "stdout",
     "output_type": "stream",
     "text": [
      "=============================================\n",
      "Model Exp Smoothing berhasil disimpan di G:\\My Drive\\[02] Area\\Work\\BPS Kaltim\\Teknis\\2024\\Neraca\\Neraca - Peramalan PDRB Triwulanan 2024\\Tw IV\\3. Exp Smoothing Plot dan Model/ModelExpSmoothing.txt \n",
      "=============================================\n"
     ]
    }
   ],
   "source": [
    "# Menentukan folder model dan plot\n",
    "mypath <- file.path(choose.dir(caption = \"Pilih Lokasi Simpan Model Exp Smoothing\"), \"ModelExpSmoothing.txt\")\n",
    "\n",
    "# Menampilkan hasil dan menyimpan model\n",
    "sink(mypath)\n",
    "suppressWarnings(es <- pdrb.forecast.es(data.pdrb))\n",
    "sink()\n",
    "\n",
    "cat(\"=============================================\\n\")\n",
    "cat(\"Model Exp Smoothing berhasil disimpan di\", mypath, \"\\n\")\n",
    "cat(\"=============================================\\n\")"
   ]
  },
  {
   "cell_type": "markdown",
   "metadata": {},
   "source": [
    "# Save Forecasting and Fitted to Excel"
   ]
  },
  {
   "cell_type": "markdown",
   "metadata": {},
   "source": [
    "Proses ini akan menyimpan nilai hasil forecasting dan fitted value kedua model pada satu file excel"
   ]
  },
  {
   "cell_type": "code",
   "execution_count": 5,
   "metadata": {
    "vscode": {
     "languageId": "r"
    }
   },
   "outputs": [
    {
     "name": "stdout",
     "output_type": "stream",
     "text": [
      "\n",
      " ================================================================================================================= \n",
      " Excel File has been saved in  G:\\My Drive\\[02] Area\\Work\\BPS Kaltim\\Teknis\\2024\\Neraca\\Neraca - Peramalan PDRB Triwulanan 2024\\Tw IV\\4. Output R \n",
      " ================================================================================================================="
     ]
    }
   ],
   "source": [
    "export.hasil(arima$forecastedval, arima$fittedval, es$forecastedval, es$fittedval)"
   ]
  }
 ],
 "metadata": {
  "kernelspec": {
   "display_name": "R",
   "language": "R",
   "name": "ir"
  },
  "language_info": {
   "codemirror_mode": "r",
   "file_extension": ".r",
   "mimetype": "text/x-r-source",
   "name": "R",
   "pygments_lexer": "r",
   "version": "4.4.1"
  }
 },
 "nbformat": 4,
 "nbformat_minor": 2
}
