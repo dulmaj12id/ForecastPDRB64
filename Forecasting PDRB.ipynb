{
 "cells": [
  {
   "cell_type": "markdown",
   "metadata": {},
   "source": [
    "# Pendahuluan\n",
    "Tabel yang dibutuhkan:\n",
    "1. Tabel PDRB"
   ]
  },
  {
   "cell_type": "markdown",
   "metadata": {},
   "source": [
    "### Penjelasan\n",
    "browseURL(\"https://github.com/idabdulmaj/ForecastPDRB64/blob/Utama/README.md\")\n",
    "\n",
    "### Install Package Forecasting PDRB (HANYA UNTUK PERTAMA) menggunakan R\n",
    "install.packages(\"devtools\")\n",
    "\n",
    "devtools::install_github(\"idabdulmaj/ForecastPDRB64\")"
   ]
  },
  {
   "cell_type": "markdown",
   "metadata": {},
   "source": [
    "# Persiapan - Mengatur Working Directory dan Library Loading"
   ]
  },
  {
   "cell_type": "code",
   "execution_count": null,
   "metadata": {
    "vscode": {
     "languageId": "r"
    }
   },
   "outputs": [],
   "source": [
    "library(SecureForecastPDRB64)\n",
    "cek.package.nya()"
   ]
  },
  {
   "cell_type": "markdown",
   "metadata": {},
   "source": [
    "# Data Frame Loading"
   ]
  },
  {
   "cell_type": "code",
   "execution_count": null,
   "metadata": {
    "vscode": {
     "languageId": "r"
    }
   },
   "outputs": [],
   "source": [
    "pdrb_df <- read.xlsx(\"1. Data Input/pdrb.xlsx\")\n",
    "data.pdrb <- pdrb_df[, 3:ncol(pdrb_df)]\n"
   ]
  },
  {
   "cell_type": "markdown",
   "metadata": {},
   "source": [
    "# FORECASTING"
   ]
  },
  {
   "cell_type": "code",
   "execution_count": null,
   "metadata": {
    "vscode": {
     "languageId": "r"
    }
   },
   "outputs": [],
   "source": [
    "suppressWarnings(forecast.pdrb.64(data.pdrb))"
   ]
  }
 ],
 "metadata": {
  "kernelspec": {
   "display_name": "R",
   "language": "R",
   "name": "ir"
  },
  "language_info": {
   "codemirror_mode": "r",
   "file_extension": ".r",
   "mimetype": "text/x-r-source",
   "name": "R",
   "pygments_lexer": "r",
   "version": "4.4.1"
  }
 },
 "nbformat": 4,
 "nbformat_minor": 2
}
