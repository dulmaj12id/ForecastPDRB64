{
 "cells": [
  {
   "cell_type": "markdown",
   "metadata": {},
   "source": [
    "# Pendahuluan\n",
    "Tabel yang dibutuhkan:\n",
    "1. Tabel PDRB"
   ]
  },
  {
   "cell_type": "markdown",
   "metadata": {},
   "source": [
    "# Library Loading"
   ]
  },
  {
   "cell_type": "code",
   "execution_count": null,
   "metadata": {
    "vscode": {
     "languageId": "r"
    }
   },
   "outputs": [],
   "source": [
    "library(ForecastPDRB64)\n",
    "ForecastPDRB64::cek.package.nya()"
   ]
  },
  {
   "cell_type": "markdown",
   "metadata": {},
   "source": [
    "# Data Loading"
   ]
  },
  {
   "cell_type": "code",
   "execution_count": 3,
   "metadata": {
    "vscode": {
     "languageId": "r"
    }
   },
   "outputs": [],
   "source": [
    "# Load Tabel PDRB\n",
    "pdrb_df <- read.xlsx(file.choose())\n",
    "\n",
    "# Menghapus kolom yang tidak diperlukan\n",
    "data.pdrb <- pdrb_df[, 3:ncol(pdrb_df)]\n"
   ]
  },
  {
   "cell_type": "markdown",
   "metadata": {},
   "source": [
    "# AUTO ARIMA PDRB"
   ]
  },
  {
   "cell_type": "markdown",
   "metadata": {},
   "source": [
    "## Forecasting Function"
   ]
  },
  {
   "cell_type": "markdown",
   "metadata": {},
   "source": [
    "Proses ini akan mencakup beberapa hal sebagai berikut:\n",
    "1. Menjalankan forecasting dengan ARIMA\n",
    "2. Melakukan penyimpanan model ARIMA untuk masing-masing kategori dalam file berekstensi *.txt\n",
    "3. Melakukan penyimpanan plot untuk masing-masing kategori dalam file berekstensi *.png"
   ]
  },
  {
   "cell_type": "code",
   "execution_count": null,
   "metadata": {
    "vscode": {
     "languageId": "r"
    }
   },
   "outputs": [],
   "source": [
    "# Menentukan folder model dan plot\n",
    "mypath <- file.path(choose.dir(caption = \"Pilih Lokasi Simpan Model ARIMA\"), \"ModelARIMA.txt\")\n",
    "\n",
    "# Menampilkan hasil dan menyimpan model\n",
    "sink(mypath)\n",
    "suppressWarnings(arima <- pdrb.forecast.arima(data.pdrb))\n",
    "sink()\n",
    "\n",
    "cat(\"=============================================\\n\")\n",
    "cat(\"Model ARIMA berhasil disimpan di\", mypath, \"\\n\")\n",
    "cat(\"=============================================\\n\")"
   ]
  },
  {
   "cell_type": "markdown",
   "metadata": {},
   "source": [
    "# EXPONENTIAL SMOOTHING PDRB"
   ]
  },
  {
   "cell_type": "markdown",
   "metadata": {},
   "source": [
    "## Forecasting Function"
   ]
  },
  {
   "cell_type": "markdown",
   "metadata": {},
   "source": [
    "Proses ini akan mencakup beberapa hal sebagai berikut:\n",
    "1. Menjalankan forecasting dengan Exponential Smoothing\n",
    "2. Melakukan penyimpanan model ARIMA untuk masing-masing kategori dalam file berekstensi *.txt\n",
    "3. Melakukan penyimpanan plot untuk masing-masing kategori dalam file berekstensi *.png"
   ]
  },
  {
   "cell_type": "code",
   "execution_count": null,
   "metadata": {
    "vscode": {
     "languageId": "r"
    }
   },
   "outputs": [],
   "source": [
    "# Menentukan folder model dan plot\n",
    "mypath <- file.path(choose.dir(caption = \"Pilih Lokasi Simpan Model Exp Smoothing\"), \"ModelExpSmoothing.txt\")\n",
    "\n",
    "# Menampilkan hasil dan menyimpan model\n",
    "sink(mypath)\n",
    "suppressWarnings(es <- pdrb.forecast.es(data.pdrb))\n",
    "sink()\n",
    "\n",
    "cat(\"=============================================\\n\")\n",
    "cat(\"Model Exp Smoothing berhasil disimpan di\", mypath, \"\\n\")\n",
    "cat(\"=============================================\\n\")"
   ]
  },
  {
   "cell_type": "markdown",
   "metadata": {},
   "source": [
    "# Save Forecasting and Fitted to Excel"
   ]
  },
  {
   "cell_type": "markdown",
   "metadata": {},
   "source": [
    "Proses ini akan menyimpan nilai hasil forecasting dan fitted value kedua model pada satu file excel"
   ]
  },
  {
   "cell_type": "code",
   "execution_count": null,
   "metadata": {
    "vscode": {
     "languageId": "r"
    }
   },
   "outputs": [],
   "source": [
    "export.hasil(arima$forecastedval, arima$fittedval, es$forecastedval, es$fittedval)"
   ]
  }
 ],
 "metadata": {
  "kernelspec": {
   "display_name": "R",
   "language": "R",
   "name": "ir"
  },
  "language_info": {
   "codemirror_mode": "r",
   "file_extension": ".r",
   "mimetype": "text/x-r-source",
   "name": "R",
   "pygments_lexer": "r",
   "version": "4.4.1"
  }
 },
 "nbformat": 4,
 "nbformat_minor": 2
}
